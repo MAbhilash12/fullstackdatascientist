{
 "cells": [
  {
   "cell_type": "code",
   "execution_count": 1,
   "id": "b24f634a",
   "metadata": {},
   "outputs": [
    {
     "name": "stdout",
     "output_type": "stream",
     "text": [
      "mom is a palindrome\n"
     ]
    }
   ],
   "source": [
    "string=input(\"Enter the string: \")\n",
    "revstring=\"\"\n",
    "for char in string:\n",
    "    revstring=char+revstring\n",
    "if string==revstring:\n",
    "    print(string,\"is a palindrome\")\n",
    "else:\n",
    "    print(string,\"is not a palindrome\")\n"
   ]
  }
 ],
 "metadata": {
  "kernelspec": {
   "display_name": "Python 3",
   "language": "python",
   "name": "python3"
  },
  "language_info": {
   "codemirror_mode": {
    "name": "ipython",
    "version": 3
   },
   "file_extension": ".py",
   "mimetype": "text/x-python",
   "name": "python",
   "nbconvert_exporter": "python",
   "pygments_lexer": "ipython3",
   "version": "3.11.0"
  }
 },
 "nbformat": 4,
 "nbformat_minor": 5
}
