{
 "cells": [
  {
   "cell_type": "code",
   "execution_count": 4,
   "id": "31dc5026",
   "metadata": {},
   "outputs": [
    {
     "name": "stdout",
     "output_type": "stream",
     "text": [
      "6 is a perfect number\n"
     ]
    }
   ],
   "source": [
    "number=int(input(\"Enter the number\"))\n",
    "sum_divisors=0\n",
    "for i in range(1,number):\n",
    "    if number%i==0:\n",
    "        sum_divisors+=i\n",
    "if sum_divisors==number:\n",
    "    print(number,\"is a perfect number\")\n",
    "else:\n",
    "    print(number,\"is not a perfect number\")"
   ]
  }
 ],
 "metadata": {
  "kernelspec": {
   "display_name": "Python 3",
   "language": "python",
   "name": "python3"
  },
  "language_info": {
   "codemirror_mode": {
    "name": "ipython",
    "version": 3
   },
   "file_extension": ".py",
   "mimetype": "text/x-python",
   "name": "python",
   "nbconvert_exporter": "python",
   "pygments_lexer": "ipython3",
   "version": "3.11.0"
  }
 },
 "nbformat": 4,
 "nbformat_minor": 5
}
