{
 "cells": [
  {
   "cell_type": "code",
   "execution_count": 4,
   "id": "74edaa53",
   "metadata": {},
   "outputs": [
    {
     "name": "stdout",
     "output_type": "stream",
     "text": [
      "vowels_count 5\n",
      "consonant count 6\n"
     ]
    }
   ],
   "source": [
    "sen=input()\n",
    "\n",
    "vowels=\"aeiouAEIOU\"\n",
    "vowels_count=0\n",
    "consonants_count=0\n",
    "for i in sen:\n",
    "    if i.isalpha():\n",
    "        if i in vowels:\n",
    "            vowels_count=vowels_count+1\n",
    "        else:\n",
    "            consonants_count=consonants_count+1\n",
    "print('vowels_count',vowels_count)\n",
    "print('consonant count',consonants_count)"
   ]
  }
 ],
 "metadata": {
  "kernelspec": {
   "display_name": "venv",
   "language": "python",
   "name": "python3"
  },
  "language_info": {
   "codemirror_mode": {
    "name": "ipython",
    "version": 3
   },
   "file_extension": ".py",
   "mimetype": "text/x-python",
   "name": "python",
   "nbconvert_exporter": "python",
   "pygments_lexer": "ipython3",
   "version": "3.11.0"
  }
 },
 "nbformat": 4,
 "nbformat_minor": 5
}
