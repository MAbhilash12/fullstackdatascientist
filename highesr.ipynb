{
 "cells": [
  {
   "cell_type": "code",
   "execution_count": 2,
   "id": "56923884",
   "metadata": {},
   "outputs": [
    {
     "name": "stdout",
     "output_type": "stream",
     "text": [
      "highest score 9\n"
     ]
    }
   ],
   "source": [
    "scores=[]\n",
    "for i in range(5):\n",
    "    score=int(input(\"enter the score\"))\n",
    "    scores.append(score)\n",
    "high=max(scores)\n",
    "print(\"highest score\",high)"
   ]
  }
 ],
 "metadata": {
  "kernelspec": {
   "display_name": "venv",
   "language": "python",
   "name": "python3"
  },
  "language_info": {
   "codemirror_mode": {
    "name": "ipython",
    "version": 3
   },
   "file_extension": ".py",
   "mimetype": "text/x-python",
   "name": "python",
   "nbconvert_exporter": "python",
   "pygments_lexer": "ipython3",
   "version": "3.11.0"
  }
 },
 "nbformat": 4,
 "nbformat_minor": 5
}
