{
 "cells": [
  {
   "cell_type": "code",
   "execution_count": 1,
   "id": "c25a701d",
   "metadata": {},
   "outputs": [
    {
     "name": "stdout",
     "output_type": "stream",
     "text": [
      "PIN Verified.\n",
      "Withdrawal Successful. Remaining Balance = 3000\n"
     ]
    }
   ],
   "source": [
    "def atm_machine():\n",
    "    correct_pin = 1234\n",
    "    balance = 5000\n",
    "\n",
    "    pin = int(input(\"Enter your PIN: \"))\n",
    "    if pin != correct_pin:\n",
    "        print(\"Invalid PIN. Access Denied.\")\n",
    "        return\n",
    "\n",
    "    print(\"PIN Verified.\")\n",
    "\n",
    "    withdraw = int(input(\"Enter amount to withdraw: \"))\n",
    "    if withdraw <= balance:\n",
    "        balance -= withdraw\n",
    "        print(f\"Withdrawal Successful. Remaining Balance = {balance}\")\n",
    "    else:\n",
    "        print(\"Insufficient Balance.\")\n",
    "\n",
    "\n",
    "atm_machine()\n"
   ]
  }
 ],
 "metadata": {
  "kernelspec": {
   "display_name": "Python 3",
   "language": "python",
   "name": "python3"
  },
  "language_info": {
   "codemirror_mode": {
    "name": "ipython",
    "version": 3
   },
   "file_extension": ".py",
   "mimetype": "text/x-python",
   "name": "python",
   "nbconvert_exporter": "python",
   "pygments_lexer": "ipython3",
   "version": "3.11.0"
  }
 },
 "nbformat": 4,
 "nbformat_minor": 5
}
