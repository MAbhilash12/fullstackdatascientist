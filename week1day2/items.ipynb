{
 "cells": [
  {
   "cell_type": "code",
   "execution_count": 1,
   "id": "0449dd4d",
   "metadata": {},
   "outputs": [
    {
     "name": "stdout",
     "output_type": "stream",
     "text": [
      "Total cost of the items is: 200\n"
     ]
    }
   ],
   "source": [
    "item1_quantity=int(input(\"Enter the quantity of item 1: \"))\n",
    "item1_price=int(input(\"Enter the price of item 1: \"))\n",
    "item2_quantity=int(input(\"Enter the quantity of item 2: \"))\n",
    "item2_price=int(input(\"Enter the price of item 2: \"))\n",
    "item3_quantity=int(input(\"Enter the quantity of item 3: \"))\n",
    "item3_price=int(input(\"Enter the price of item 3: \"))\n",
    "total_cost=(item1_quantity * item1_price) + (item2_quantity * item2_price)+(item3_quantity * item3_price)\n",
    "print(\"Total cost of the items is:\", total_cost)"
   ]
  }
 ],
 "metadata": {
  "kernelspec": {
   "display_name": "Python 3",
   "language": "python",
   "name": "python3"
  },
  "language_info": {
   "codemirror_mode": {
    "name": "ipython",
    "version": 3
   },
   "file_extension": ".py",
   "mimetype": "text/x-python",
   "name": "python",
   "nbconvert_exporter": "python",
   "pygments_lexer": "ipython3",
   "version": "3.11.0"
  }
 },
 "nbformat": 4,
 "nbformat_minor": 5
}
