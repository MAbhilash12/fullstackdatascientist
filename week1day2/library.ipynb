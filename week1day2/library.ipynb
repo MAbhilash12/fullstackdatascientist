{
 "cells": [
  {
   "cell_type": "code",
   "execution_count": null,
   "id": "58e1d217",
   "metadata": {},
   "outputs": [],
   "source": [
    "books = [\"Python Basics\", \"Data Science\", \"AI Fundamentals\"]\n",
    "print(f\"Current Books: {books}\")\n",
    "add_book = input(\"Enter book to add: \")\n",
    "books.append(add_book)\n",
    "print(f\"After adding, Books: {books}\")\n",
    "remove_book = input(\"Enter book to remove: \")\n",
    "if remove_book in books:\n",
    "    books.remove(remove_book)\n",
    "    print(f\"After removing, Books: {books}\")\n",
    "    print(f\"Total Books: {len(books)}\")"
   ]
  }
 ],
 "metadata": {
  "language_info": {
   "name": "python"
  }
 },
 "nbformat": 4,
 "nbformat_minor": 5
}
