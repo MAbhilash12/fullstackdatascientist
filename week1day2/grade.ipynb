{
 "cells": [
  {
   "cell_type": "code",
   "execution_count": 1,
   "id": "c5bd0560",
   "metadata": {},
   "outputs": [
    {
     "name": "stdout",
     "output_type": "stream",
     "text": [
      "Grade B\n"
     ]
    }
   ],
   "source": [
    "marks=int(input(\"Enter your marks: \"))\n",
    "if marks>=90:\n",
    "    print(\"Grade A+\")\n",
    "elif marks>=80 and marks<90:\n",
    "    print(\"Grade A\")\n",
    "elif marks>=70 and marks<80:\n",
    "    print(\"Grade B\")\n",
    "elif marks>=60 and marks<70:\n",
    "    print(\"Grade C\")\n",
    "elif marks<60:\n",
    "    print(\"Grade F\")\n",
    "\n",
    "\n",
    "\n",
    "\n"
   ]
  }
 ],
 "metadata": {
  "kernelspec": {
   "display_name": "Python 3",
   "language": "python",
   "name": "python3"
  },
  "language_info": {
   "codemirror_mode": {
    "name": "ipython",
    "version": 3
   },
   "file_extension": ".py",
   "mimetype": "text/x-python",
   "name": "python",
   "nbconvert_exporter": "python",
   "pygments_lexer": "ipython3",
   "version": "3.11.0"
  }
 },
 "nbformat": 4,
 "nbformat_minor": 5
}
