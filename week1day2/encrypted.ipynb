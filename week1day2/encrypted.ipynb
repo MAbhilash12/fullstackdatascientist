{
 "cells": [
  {
   "cell_type": "code",
   "execution_count": null,
   "id": "75fa7d8d",
   "metadata": {},
   "outputs": [],
   "source": [
    "message=input(\"Enter message: \")\n",
    "shift=int(input(\"Enter shift value: \"))\n",
    "encrypted_message=\"\"\n",
    "for char in message:\n",
    "    if char.isalpha():\n",
    "        shifted=ord(char)+shift\n",
    "        if char.isupper():\n",
    "            if shifted > ord('Z'):\n",
    "                shifted -= 26\n",
    "        elif char.islower():\n",
    "            if shifted > ord('z'):\n",
    "                shifted -= 26\n",
    "        encrypted_message+=chr(shifted)\n",
    "    else:\n",
    "        encrypted_message+=char\n",
    "print(f\"Encrypted Message: {encrypted_message}\")"
   ]
  }
 ],
 "metadata": {
  "kernelspec": {
   "display_name": "Python 3",
   "language": "python",
   "name": "python3"
  },
  "language_info": {
   "codemirror_mode": {
    "name": "ipython",
    "version": 3
   },
   "file_extension": ".py",
   "mimetype": "text/x-python",
   "name": "python",
   "nbconvert_exporter": "python",
   "pygments_lexer": "ipython3",
   "version": "3.11.0"
  }
 },
 "nbformat": 4,
 "nbformat_minor": 5
}
