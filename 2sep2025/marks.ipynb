{
 "cells": [
  {
   "cell_type": "code",
   "execution_count": 2,
   "id": "15c8cf54",
   "metadata": {},
   "outputs": [
    {
     "name": "stdout",
     "output_type": "stream",
     "text": [
      "Marks of students are:  [80, 70, 90, 85, 95]\n",
      "Average marks of students is:  84.0\n",
      "Highest marks is:  95\n",
      "Lowest marks is:  70\n"
     ]
    }
   ],
   "source": [
    "marks=[]\n",
    "\n",
    "n=int(input(\"Enter number of students: \"))\n",
    "for i in range(n):\n",
    "    m=int(input(\"Enter marks of students:\"))\n",
    "    marks.append(m)\n",
    "print(\"Marks of students are: \",marks)\n",
    "print(\"Average marks of students is: \",sum(marks)/n)\n",
    "print(\"Highest marks is: \",max(marks))\n",
    "print(\"Lowest marks is: \",min(marks))\n"
   ]
  }
 ],
 "metadata": {
  "kernelspec": {
   "display_name": "Python 3",
   "language": "python",
   "name": "python3"
  },
  "language_info": {
   "codemirror_mode": {
    "name": "ipython",
    "version": 3
   },
   "file_extension": ".py",
   "mimetype": "text/x-python",
   "name": "python",
   "nbconvert_exporter": "python",
   "pygments_lexer": "ipython3",
   "version": "3.11.0"
  }
 },
 "nbformat": 4,
 "nbformat_minor": 5
}
