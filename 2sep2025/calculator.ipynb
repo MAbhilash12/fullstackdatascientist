{
 "cells": [
  {
   "cell_type": "code",
   "execution_count": 1,
   "id": "56e30243",
   "metadata": {},
   "outputs": [
    {
     "name": "stdout",
     "output_type": "stream",
     "text": [
      "Addition: 19\n",
      "Subtraction: 11\n",
      "Multiplication: 60\n",
      "Division: 3.75\n",
      "Modulus: 3\n"
     ]
    }
   ],
   "source": [
    "first_number=int(input(\"Enter the first number: \"))\n",
    "second_number=int(input(\"Enter the second number: \"))   \n",
    "\n",
    "print(\"Addition:\", first_number + second_number)\n",
    "print(\"Subtraction:\", first_number - second_number)\n",
    "print(\"Multiplication:\", first_number * second_number)\n",
    "print(\"Division:\", first_number / second_number)\n",
    "print(\"Modulus:\", first_number % second_number)\n"
   ]
  }
 ],
 "metadata": {
  "kernelspec": {
   "display_name": "Python 3",
   "language": "python",
   "name": "python3"
  },
  "language_info": {
   "codemirror_mode": {
    "name": "ipython",
    "version": 3
   },
   "file_extension": ".py",
   "mimetype": "text/x-python",
   "name": "python",
   "nbconvert_exporter": "python",
   "pygments_lexer": "ipython3",
   "version": "3.11.0"
  }
 },
 "nbformat": 4,
 "nbformat_minor": 5
}
