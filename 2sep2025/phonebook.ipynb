{
 "cells": [
  {
   "cell_type": "code",
   "execution_count": 2,
   "id": "2d39ebac",
   "metadata": {},
   "outputs": [
    {
     "name": "stdout",
     "output_type": "stream",
     "text": [
      "Phone number of  nani is 123456789\n"
     ]
    }
   ],
   "source": [
    "phone_book={}\n",
    "n=int(input(\"Enter number of entries: \"))\n",
    "for i in range(n):\n",
    "    name=input(\"Enter name: \")\n",
    "    number=input(\"Enter number: \")\n",
    "    phone_book[name]=number\n",
    "\n",
    "search_name=input(\"Enter name to search: \")\n",
    "if search_name in phone_book:\n",
    "    print(\"Phone number of \",search_name,\"is\",phone_book[search_name])\n",
    "else:\n",
    "    print(search_name,\" is not found in phone book\")"
   ]
  }
 ],
 "metadata": {
  "kernelspec": {
   "display_name": "Python 3",
   "language": "python",
   "name": "python3"
  },
  "language_info": {
   "codemirror_mode": {
    "name": "ipython",
    "version": 3
   },
   "file_extension": ".py",
   "mimetype": "text/x-python",
   "name": "python",
   "nbconvert_exporter": "python",
   "pygments_lexer": "ipython3",
   "version": "3.11.0"
  }
 },
 "nbformat": 4,
 "nbformat_minor": 5
}
