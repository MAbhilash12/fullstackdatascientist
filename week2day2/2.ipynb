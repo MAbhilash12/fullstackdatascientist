{
 "cells": [
  {
   "cell_type": "code",
   "execution_count": 1,
   "id": "47a49201",
   "metadata": {},
   "outputs": [
    {
     "name": "stdout",
     "output_type": "stream",
     "text": [
      "Strong\n"
     ]
    }
   ],
   "source": [
    "import string\n",
    "\n",
    "def check_pwd(str1):\n",
    "    has_alpha=any(ch.isalpha() for ch in str1)\n",
    "    has_num=any(ch.isdigit() for ch in str1 )\n",
    "    has_punc=any(ch in string.punctuation for ch in str1)\n",
    "    \n",
    "    if len(str1)>=8 and has_alpha and has_num and has_punc:\n",
    "        print(\"Strong\")\n",
    "    else:\n",
    "        print(\"Weak\")\n",
    "str1=\"Abhi@556\"\n",
    "check_pwd(str1)"
   ]
  }
 ],
 "metadata": {
  "kernelspec": {
   "display_name": "Python 3",
   "language": "python",
   "name": "python3"
  },
  "language_info": {
   "codemirror_mode": {
    "name": "ipython",
    "version": 3
   },
   "file_extension": ".py",
   "mimetype": "text/x-python",
   "name": "python",
   "nbconvert_exporter": "python",
   "pygments_lexer": "ipython3",
   "version": "3.11.0"
  }
 },
 "nbformat": 4,
 "nbformat_minor": 5
}
