{
 "cells": [
  {
   "cell_type": "code",
   "execution_count": null,
   "id": "36f29268",
   "metadata": {},
   "outputs": [
    {
     "name": "stdout",
     "output_type": "stream",
     "text": [
      "10 + 5 = 15\n",
      "op1= 10 op2 0 Error: Division by zero is not allowed.\n",
      "10 % 3 = 1\n",
      "Error: Invalid operator. Please use one of +, -, *, /, %.\n"
     ]
    }
   ],
   "source": [
    "# Problem: Implement a calculator with +, -, *, / operations.\n",
    "def calculator(op1,op2,operator):\n",
    "    if operator=='+':\n",
    "        print(op1,'+',op2,'=',op1+op2)\n",
    "    elif operator=='-':\n",
    "        print(op1,'-',op2,'=',op1-op2)\n",
    "    elif operator=='*':\n",
    "        print(op1,'*',op2,'=',op1*op2)\n",
    "    elif operator=='/':\n",
    "        try:\n",
    "            print(op1,'/',op2,'=',op1/op2)\n",
    "        except ZeroDivisionError:\n",
    "            print('op1=',op1,'op2',op2,'Error: Division by zero is not allowed.')\n",
    "    elif operator=='%':\n",
    "        try:\n",
    "            print(op1,'%',op2,'=',op1%op2)\n",
    "        except ZeroDivisionError:\n",
    "            print('Error: Division by zero is not allowed.')\n",
    "    else:\n",
    "        print('Error: Invalid operator. Please use one of +, -, *, /, %.')\n",
    "\n",
    "\n",
    "\n",
    "a=int(input('Enter first integer: '))\n",
    "b=int(input('Enter second integer: '))\n",
    "op=input('Enter operator (+, -, *, /, %): ')\n",
    "calculator(a,b,op)\n",
    "calculator(10,0,'/')\n",
    "calculator(10,3,'%')\n",
    "calculator(5,2,'^')\n",
    "\n",
    "        \n"
   ]
  }
 ],
 "metadata": {
  "kernelspec": {
   "display_name": "Python 3",
   "language": "python",
   "name": "python3"
  },
  "language_info": {
   "codemirror_mode": {
    "name": "ipython",
    "version": 3
   },
   "file_extension": ".py",
   "mimetype": "text/x-python",
   "name": "python",
   "nbconvert_exporter": "python",
   "pygments_lexer": "ipython3",
   "version": "3.11.0"
  }
 },
 "nbformat": 4,
 "nbformat_minor": 5
}
