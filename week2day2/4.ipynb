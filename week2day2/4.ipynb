{
 "cells": [
  {
   "cell_type": "code",
   "execution_count": 1,
   "id": "eededa1c",
   "metadata": {},
   "outputs": [
    {
     "name": "stdout",
     "output_type": "stream",
     "text": [
      "['bunny', 'abhi']\n"
     ]
    }
   ],
   "source": [
    "def dup(list1):\n",
    "    l1=[x for x in list1 if list1.count(x)>1]\n",
    "    l2=list(set(l1))\n",
    "    return l2\n",
    "l=[\"abhi\",\"adhi\",\"bunny\",\"bunny\",\"abhi\"]        \n",
    "print(dup(l))"
   ]
  }
 ],
 "metadata": {
  "kernelspec": {
   "display_name": "Python 3",
   "language": "python",
   "name": "python3"
  },
  "language_info": {
   "codemirror_mode": {
    "name": "ipython",
    "version": 3
   },
   "file_extension": ".py",
   "mimetype": "text/x-python",
   "name": "python",
   "nbconvert_exporter": "python",
   "pygments_lexer": "ipython3",
   "version": "3.11.0"
  }
 },
 "nbformat": 4,
 "nbformat_minor": 5
}
