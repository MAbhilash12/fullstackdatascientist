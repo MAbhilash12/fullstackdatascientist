{
 "cells": [
  {
   "cell_type": "code",
   "execution_count": null,
   "id": "5fa9b581",
   "metadata": {},
   "outputs": [
    {
     "name": "stdout",
     "output_type": "stream",
     "text": [
      "Withdrawal amount is: 6000.0\n",
      "Insufficient funds\n"
     ]
    }
   ],
   "source": [
    "# Problem: If withdrawal amount is greater than balance, raise an exception.\n",
    "def withdrawal(balance, amount):\n",
    "    if amount > balance:\n",
    "        raise ValueError(\" value error Insufficient funds\")\n",
    "    balance -= amount\n",
    "    return balance\n",
    "\n",
    "balance = 5000\n",
    "try:\n",
    "    amount = float(input(\"Enter amount to withdraw: \"))\n",
    "    print(\"Withdrawal amount is:\", amount)\n",
    "    print(\"Remaining balance is:\", withdrawal(balance, amount))\n",
    "except ValueError as e:\n",
    "    print(e)"
   ]
  }
 ],
 "metadata": {
  "kernelspec": {
   "display_name": "Python 3",
   "language": "python",
   "name": "python3"
  },
  "language_info": {
   "codemirror_mode": {
    "name": "ipython",
    "version": 3
   },
   "file_extension": ".py",
   "mimetype": "text/x-python",
   "name": "python",
   "nbconvert_exporter": "python",
   "pygments_lexer": "ipython3",
   "version": "3.11.0"
  }
 },
 "nbformat": 4,
 "nbformat_minor": 5
}
