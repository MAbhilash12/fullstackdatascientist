{
 "cells": [
  {
   "cell_type": "code",
   "execution_count": 1,
   "id": "ad45306d",
   "metadata": {},
   "outputs": [
    {
     "name": "stdout",
     "output_type": "stream",
     "text": [
      "Total Bill: 300\n"
     ]
    }
   ],
   "source": [
    "def bill(d):\n",
    "    print(f\"Total Bill: {sum(d.values())}\")\n",
    "d={\n",
    "    \"bill1\":50,\n",
    "    \"bill2\":100,\n",
    "    \"bill3\":150\n",
    "}\n",
    "bill(d)"
   ]
  }
 ],
 "metadata": {
  "kernelspec": {
   "display_name": "Python 3",
   "language": "python",
   "name": "python3"
  },
  "language_info": {
   "codemirror_mode": {
    "name": "ipython",
    "version": 3
   },
   "file_extension": ".py",
   "mimetype": "text/x-python",
   "name": "python",
   "nbconvert_exporter": "python",
   "pygments_lexer": "ipython3",
   "version": "3.11.0"
  }
 },
 "nbformat": 4,
 "nbformat_minor": 5
}
