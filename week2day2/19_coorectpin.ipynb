{
 "cells": [
  {
   "cell_type": "code",
   "execution_count": null,
   "id": "8af28ca8",
   "metadata": {},
   "outputs": [
    {
     "name": "stdout",
     "output_type": "stream",
     "text": [
      "Incorrect PIN\n",
      "Incorrect PIN\n",
      "Correct PIN\n"
     ]
    }
   ],
   "source": [
    "#Problem: User has 3 attempts to enter correct PIN.\n",
    "def correctpin():\n",
    "    correct_pin = 1234\n",
    "    for i in range(3):\n",
    "        pin = int(input(\"Enter PIN: \"))\n",
    "        if pin == correct_pin:\n",
    "            print(\"Correct PIN\")\n",
    "            break\n",
    "        else:\n",
    "            print(\"Incorrect PIN\")\n",
    "    else:\n",
    "        print(\"Account Locked\")\n",
    "\n",
    "\n",
    "correctpin()\n"
   ]
  }
 ],
 "metadata": {
  "kernelspec": {
   "display_name": "Python 3",
   "language": "python",
   "name": "python3"
  },
  "language_info": {
   "codemirror_mode": {
    "name": "ipython",
    "version": 3
   },
   "file_extension": ".py",
   "mimetype": "text/x-python",
   "name": "python",
   "nbconvert_exporter": "python",
   "pygments_lexer": "ipython3",
   "version": "3.11.0"
  }
 },
 "nbformat": 4,
 "nbformat_minor": 5
}
