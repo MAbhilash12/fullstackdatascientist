{
 "cells": [
  {
   "cell_type": "code",
   "execution_count": null,
   "id": "8217b3a4",
   "metadata": {},
   "outputs": [
    {
     "name": "stdout",
     "output_type": "stream",
     "text": [
      "enter numbers for division\n",
      "dividend is  5\n",
      "divisor is  0\n",
      "result is  Error: Division by zero is not allowed.\n"
     ]
    }
   ],
   "source": [
    "#Problem: Write a program that asks for two numbers and divides them. Handle division by zero.\n",
    "def divison(a,b):\n",
    "    try:\n",
    "        result = a / b\n",
    "    except ZeroDivisionError:\n",
    "        return \"Error: Division by zero is not allowed.\"\n",
    "    else:\n",
    "        return result\n",
    "    \n",
    "print(\"enter numbers for division\")\n",
    "a=int(input())\n",
    "b=int(input())\n",
    "print(\"dividend is \",a)\n",
    "print(\"divisor is \",b)\n",
    "print(\"result is \",divison(a,b))\n"
   ]
  }
 ],
 "metadata": {
  "kernelspec": {
   "display_name": "Python 3",
   "language": "python",
   "name": "python3"
  },
  "language_info": {
   "codemirror_mode": {
    "name": "ipython",
    "version": 3
   },
   "file_extension": ".py",
   "mimetype": "text/x-python",
   "name": "python",
   "nbconvert_exporter": "python",
   "pygments_lexer": "ipython3",
   "version": "3.11.0"
  }
 },
 "nbformat": 4,
 "nbformat_minor": 5
}
