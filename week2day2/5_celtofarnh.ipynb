{
 "cells": [
  {
   "cell_type": "code",
   "execution_count": null,
   "id": "842ef0bf",
   "metadata": {},
   "outputs": [
    {
     "name": "stdout",
     "output_type": "stream",
     "text": [
      "temperature in Celsius: 28.9\n",
      "Temperature in Fahrenheit: 84.02\n"
     ]
    }
   ],
   "source": [
    "#//5. Problem: Convert between Celsius and Fahrenheit.\n",
    "\n",
    "def celsiusto_fahrenheit(celsius):\n",
    "    return (celsius * 9/5) + 32\n",
    "\n",
    "\n",
    "celsius = float(input(\"Enter temperature in Celsius: \"))\n",
    "print(\"temperature in Celsius:\",celsius)\n",
    "fahrenheit = celsiusto_fahrenheit(celsius)\n",
    "print(\"Temperature in Fahrenheit:\",fahrenheit)"
   ]
  }
 ],
 "metadata": {
  "kernelspec": {
   "display_name": "Python 3",
   "language": "python",
   "name": "python3"
  },
  "language_info": {
   "codemirror_mode": {
    "name": "ipython",
    "version": 3
   },
   "file_extension": ".py",
   "mimetype": "text/x-python",
   "name": "python",
   "nbconvert_exporter": "python",
   "pygments_lexer": "ipython3",
   "version": "3.11.0"
  }
 },
 "nbformat": 4,
 "nbformat_minor": 5
}
