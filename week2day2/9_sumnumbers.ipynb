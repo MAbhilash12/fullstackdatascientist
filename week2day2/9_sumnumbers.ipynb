{
 "cells": [
  {
   "cell_type": "code",
   "execution_count": null,
   "id": "0b95cc57",
   "metadata": {},
   "outputs": [
    {
     "name": "stdout",
     "output_type": "stream",
     "text": [
      "number: 1234\n",
      "Sum of digits of number: 10\n"
     ]
    }
   ],
   "source": [
    "#//9. Problem: Input: 1234 → Output: 10\n",
    "def sum_numbers(number):\n",
    "    sum=0\n",
    "    while number>0:\n",
    "        digit=number%10\n",
    "        sum+=digit\n",
    "        number=number//10\n",
    "    return sum\n",
    "\n",
    "num=int(input(\"Enter a number: \"))\n",
    "print(\"number:\",num)\n",
    "print(\"Sum of digits of number:\",sum_numbers(num))"
   ]
  }
 ],
 "metadata": {
  "kernelspec": {
   "display_name": "Python 3",
   "language": "python",
   "name": "python3"
  },
  "language_info": {
   "codemirror_mode": {
    "name": "ipython",
    "version": 3
   },
   "file_extension": ".py",
   "mimetype": "text/x-python",
   "name": "python",
   "nbconvert_exporter": "python",
   "pygments_lexer": "ipython3",
   "version": "3.11.0"
  }
 },
 "nbformat": 4,
 "nbformat_minor": 5
}
