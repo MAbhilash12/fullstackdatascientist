{
 "cells": [
  {
   "cell_type": "code",
   "execution_count": 1,
   "id": "c1e1b6cb",
   "metadata": {},
   "outputs": [
    {
     "name": "stdout",
     "output_type": "stream",
     "text": [
      "['adhi', 'bunny']\n"
     ]
    }
   ],
   "source": [
    "def deaf(dict1):\n",
    "    y=[x for x,y in dict1.items() if y<75]\n",
    "    return y\n",
    "d1={\n",
    "    \"abhi\":80,\n",
    "    \"adhi\":70,\n",
    "    \"bunny\":50\n",
    "}\n",
    "print(deaf(d1))"
   ]
  }
 ],
 "metadata": {
  "kernelspec": {
   "display_name": "Python 3",
   "language": "python",
   "name": "python3"
  },
  "language_info": {
   "codemirror_mode": {
    "name": "ipython",
    "version": 3
   },
   "file_extension": ".py",
   "mimetype": "text/x-python",
   "name": "python",
   "nbconvert_exporter": "python",
   "pygments_lexer": "ipython3",
   "version": "3.11.0"
  }
 },
 "nbformat": 4,
 "nbformat_minor": 5
}
