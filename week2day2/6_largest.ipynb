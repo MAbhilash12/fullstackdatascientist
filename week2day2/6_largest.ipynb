{
 "cells": [
  {
   "cell_type": "code",
   "execution_count": null,
   "id": "cb18700b",
   "metadata": {},
   "outputs": [
    {
     "name": "stdout",
     "output_type": "stream",
     "text": [
      "The numbers are: [10, 20, 30, 25, 40]\n",
      "The largest number is: 40\n"
     ]
    }
   ],
   "source": [
    "#//6. Problem: Find the largest number from a list of integers.\n",
    "\n",
    "def largest_num(numbers):\n",
    "    return max(numbers)\n",
    "\n",
    "numbers=[]\n",
    "n=int(input(\"Enter number of elements: \"))\n",
    "for i in range(n):\n",
    "    num=int(input(\"Enter number: \"))\n",
    "    numbers.append(num)\n",
    "\n",
    "print(\"The numbers are:\",numbers)\n",
    "print(\"The largest number is:\",largest_num(numbers))"
   ]
  }
 ],
 "metadata": {
  "kernelspec": {
   "display_name": "Python 3",
   "language": "python",
   "name": "python3"
  },
  "language_info": {
   "codemirror_mode": {
    "name": "ipython",
    "version": 3
   },
   "file_extension": ".py",
   "mimetype": "text/x-python",
   "name": "python",
   "nbconvert_exporter": "python",
   "pygments_lexer": "ipython3",
   "version": "3.11.0"
  }
 },
 "nbformat": 4,
 "nbformat_minor": 5
}
