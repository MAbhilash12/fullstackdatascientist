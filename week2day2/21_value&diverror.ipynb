{
 "cells": [
  {
   "cell_type": "code",
   "execution_count": 1,
   "id": "f294d40e",
   "metadata": {},
   "outputs": [
    {
     "name": "stdout",
     "output_type": "stream",
     "text": [
      "The result is: 0.4\n",
      "Division performed successfully.\n"
     ]
    }
   ],
   "source": [
    "#SProblem: Write a program that handles both ValueError (invalid input) and ZeroDivisionError.\n",
    "def diverror(a,b):\n",
    "    try:\n",
    "        result = a / b\n",
    "        print(\"The result is:\", result)\n",
    "    except ZeroDivisionError as e:\n",
    "        print(\"Error: Division by zero is not allowed.\",e)\n",
    "    else:\n",
    "        print(\"Division performed successfully.\")\n",
    "\n",
    "try:\n",
    "    num1 = float(input(\"Enter the first number: \"))\n",
    "    num2 = float(input(\"Enter the second number: \"))\n",
    "    diverror(num1, num2)\n",
    "except ValueError as e:\n",
    "    print(\"Error: Invalid input. Please enter numeric values.\",e)\n",
    "\n",
    "\n",
    "    "
   ]
  }
 ],
 "metadata": {
  "kernelspec": {
   "display_name": "Python 3",
   "language": "python",
   "name": "python3"
  },
  "language_info": {
   "codemirror_mode": {
    "name": "ipython",
    "version": 3
   },
   "file_extension": ".py",
   "mimetype": "text/x-python",
   "name": "python",
   "nbconvert_exporter": "python",
   "pygments_lexer": "ipython3",
   "version": "3.11.0"
  }
 },
 "nbformat": 4,
 "nbformat_minor": 5
}
