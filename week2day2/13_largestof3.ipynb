{
 "cells": [
  {
   "cell_type": "code",
   "execution_count": 2,
   "id": "afb7f566",
   "metadata": {},
   "outputs": [
    {
     "name": "stdout",
     "output_type": "stream",
     "text": [
      "the first number is: 10\n",
      "the second number is: 20\n",
      "the third number is: 30\n",
      "the largest number is: 30\n"
     ]
    }
   ],
   "source": [
    "#//13. Problem: Input 3 numbers, print the largest.\n",
    "def largestof3(a,b,c):\n",
    "    if a>=b and a>=c:\n",
    "        return a\n",
    "    elif b>=a and b>=c:\n",
    "        return b\n",
    "    else:\n",
    "        return c\n",
    "\n",
    "a=int(input(\"Enter first number: \"))\n",
    "print(\"the first number is:\",a)\n",
    "b=int(input(\"Enter second number: \"))\n",
    "print(\"the second number is:\",b)\n",
    "\n",
    "c=int(input(\"Enter third number: \"))\n",
    "print(\"the third number is:\",c)\n",
    "\n",
    "print(\"the largest number is:\",largestof3(a,b,c))"
   ]
  }
 ],
 "metadata": {
  "kernelspec": {
   "display_name": "Python 3",
   "language": "python",
   "name": "python3"
  },
  "language_info": {
   "codemirror_mode": {
    "name": "ipython",
    "version": 3
   },
   "file_extension": ".py",
   "mimetype": "text/x-python",
   "name": "python",
   "nbconvert_exporter": "python",
   "pygments_lexer": "ipython3",
   "version": "3.11.0"
  }
 },
 "nbformat": 4,
 "nbformat_minor": 5
}
