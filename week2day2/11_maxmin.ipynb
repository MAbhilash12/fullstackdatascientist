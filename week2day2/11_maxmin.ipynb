{
 "cells": [
  {
   "cell_type": "code",
   "execution_count": null,
   "id": "dcf79312",
   "metadata": {},
   "outputs": [
    {
     "name": "stdout",
     "output_type": "stream",
     "text": [
      "The elements are: [10, 20, 30, 40, 50]\n",
      "The largest number is: 50\n",
      "The smallest number is: 10\n"
     ]
    }
   ],
   "source": [
    "#//11. Problem: Find smallest and largest numbers from a list.\n",
    "\n",
    "\n",
    "def find_max(numbers):\n",
    "    max_num=numbers[0]\n",
    "    for num in numbers:\n",
    "        if num > max_num:\n",
    "            max_num = num\n",
    "    return max_num\n",
    "\n",
    "\n",
    "def find_min(numbers):\n",
    "    min_num=numbers[0]\n",
    "    for num in numbers:\n",
    "        if num < min_num:\n",
    "            min_num = num\n",
    "    return min_num \n",
    "\n",
    "n = int(input(\"Enter number of elements: \"))\n",
    "numbers = []\n",
    "for i in range(n):\n",
    "    element = int(input(\"Enter element: \"))\n",
    "    numbers.append(element)\n",
    "\n",
    "print(\"The elements are:\", numbers)\n",
    "print(\"The largest number is:\", find_max(numbers))\n",
    "print(\"The smallest number is:\", find_min(numbers))\n"
   ]
  },
  {
   "cell_type": "code",
   "execution_count": null,
   "id": "fe386446",
   "metadata": {},
   "outputs": [],
   "source": []
  }
 ],
 "metadata": {
  "kernelspec": {
   "display_name": "Python 3",
   "language": "python",
   "name": "python3"
  },
  "language_info": {
   "codemirror_mode": {
    "name": "ipython",
    "version": 3
   },
   "file_extension": ".py",
   "mimetype": "text/x-python",
   "name": "python",
   "nbconvert_exporter": "python",
   "pygments_lexer": "ipython3",
   "version": "3.11.0"
  }
 },
 "nbformat": 4,
 "nbformat_minor": 5
}
