{
 "cells": [
  {
   "cell_type": "code",
   "execution_count": null,
   "id": "b0b07c96",
   "metadata": {},
   "outputs": [
    {
     "name": "stdout",
     "output_type": "stream",
     "text": [
      "no of unit consumed: 300\n",
      "Electricity bill is: 2200\n"
     ]
    }
   ],
   "source": [
    "#15. Problem: Calculate electricity bill:\n",
    "#First 100 units → ₹5/unit\n",
    "#Next 100 units → ₹7/unit\n",
    "#Above 200 units → ₹10/unit\n",
    "def elecricity_bill(unit):\n",
    "    if unit<=100:\n",
    "        bill=unit*5\n",
    "    elif unit<=200:\n",
    "        bill=100*5+(unit-100)*7\n",
    "    elif unit>200:\n",
    "        bill=100*5+100*7+(unit-200)*10\n",
    "    return bill\n",
    "\n",
    "unit=int(input(\"Enter the unit consumed: \"))\n",
    "print(\"no of unit consumed:\",unit)\n",
    "print(\"Electricity bill is:\",elecricity_bill(unit))"
   ]
  },
  {
   "cell_type": "code",
   "execution_count": null,
   "id": "09123eca",
   "metadata": {},
   "outputs": [],
   "source": []
  }
 ],
 "metadata": {
  "kernelspec": {
   "display_name": "Python 3",
   "language": "python",
   "name": "python3"
  },
  "language_info": {
   "codemirror_mode": {
    "name": "ipython",
    "version": 3
   },
   "file_extension": ".py",
   "mimetype": "text/x-python",
   "name": "python",
   "nbconvert_exporter": "python",
   "pygments_lexer": "ipython3",
   "version": "3.11.0"
  }
 },
 "nbformat": 4,
 "nbformat_minor": 5
}
