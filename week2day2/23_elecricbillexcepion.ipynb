{
 "cells": [
  {
   "cell_type": "code",
   "execution_count": null,
   "id": "a6f9becc",
   "metadata": {},
   "outputs": [
    {
     "name": "stdout",
     "output_type": "stream",
     "text": [
      "value error:Invalid number of units\n"
     ]
    }
   ],
   "source": [
    "#23. Problem: Calculate total price, handle invalid input, and always show \"Bill processing finished\".\n",
    "#• First 100 units → ₹5/unit\n",
    "# Next 100 units → ₹7/unit\n",
    "# Above 200 units → ₹10/un\n",
    "def electricity_bill(units):\n",
    "    if units <= 100 and units >0:\n",
    "        return units * 5\n",
    "    elif units <= 200 and units > 100:\n",
    "        return (100 * 5) + (units - 100) * 7\n",
    "    elif units > 200:\n",
    "        return (100 * 5) + (100 * 7) + (units - 200) * 10\n",
    "    else:\n",
    "        raise ValueError(\"value error:Invalid number of units\")\n",
    "    \n",
    "try:\n",
    "    units = int(input(\"Enter the number of electricity units consumed: \"))\n",
    "    total_bill = electricity_bill(units)\n",
    "    print(\"Electricity units consumed:\", units)\n",
    "    print(\"bill processing finished\")\n",
    "    print(\"Total electricity bill: ₹\",total_bill)\n",
    "except ValueError as e:\n",
    "    print(e)\n",
    "    "
   ]
  }
 ],
 "metadata": {
  "kernelspec": {
   "display_name": "Python 3",
   "language": "python",
   "name": "python3"
  },
  "language_info": {
   "codemirror_mode": {
    "name": "ipython",
    "version": 3
   },
   "file_extension": ".py",
   "mimetype": "text/x-python",
   "name": "python",
   "nbconvert_exporter": "python",
   "pygments_lexer": "ipython3",
   "version": "3.11.0"
  }
 },
 "nbformat": 4,
 "nbformat_minor": 5
}
