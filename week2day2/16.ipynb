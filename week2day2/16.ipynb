{
 "cells": [
  {
   "cell_type": "code",
   "execution_count": 1,
   "id": "0ad6547e",
   "metadata": {},
   "outputs": [
    {
     "data": {
      "text/plain": [
       "['Abhi', 'Adhi', 'Bunny', 'Zara']"
      ]
     },
     "execution_count": 1,
     "metadata": {},
     "output_type": "execute_result"
    }
   ],
   "source": [
    "def sort_names(l):\n",
    "    return sorted(l)\n",
    "l=[\"Abhi\",\"Adhi\",\"Zara\",\"Bunny\"]\n",
    "sort_names(l)"
   ]
  }
 ],
 "metadata": {
  "kernelspec": {
   "display_name": "Python 3",
   "language": "python",
   "name": "python3"
  },
  "language_info": {
   "codemirror_mode": {
    "name": "ipython",
    "version": 3
   },
   "file_extension": ".py",
   "mimetype": "text/x-python",
   "name": "python",
   "nbconvert_exporter": "python",
   "pygments_lexer": "ipython3",
   "version": "3.11.0"
  }
 },
 "nbformat": 4,
 "nbformat_minor": 5
}
