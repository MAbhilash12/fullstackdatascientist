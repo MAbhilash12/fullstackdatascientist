{
 "cells": [
  {
   "cell_type": "code",
   "execution_count": null,
   "id": "eb99d9c6",
   "metadata": {},
   "outputs": [
    {
     "name": "stdout",
     "output_type": "stream",
     "text": [
      "the entered number is: 1234\n",
      "the reversed number is: 4321\n"
     ]
    }
   ],
   "source": [
    "#17. Problem: Input: 1234 → Output: 4321\n",
    "def numberreverse(num):\n",
    "    rev=0\n",
    "    while num>0:\n",
    "        digit=num%10\n",
    "        rev=rev*10+digit\n",
    "        num=num//10\n",
    "    return rev\n",
    "\n",
    "number=int(input(\"Enter a number: \"))\n",
    "print(\"the entered number is:\",number)\n",
    "print(\"the reversed number is:\",numberreverse(number))"
   ]
  }
 ],
 "metadata": {
  "kernelspec": {
   "display_name": "Python 3",
   "language": "python",
   "name": "python3"
  },
  "language_info": {
   "codemirror_mode": {
    "name": "ipython",
    "version": 3
   },
   "file_extension": ".py",
   "mimetype": "text/x-python",
   "name": "python",
   "nbconvert_exporter": "python",
   "pygments_lexer": "ipython3",
   "version": "3.11.0"
  }
 },
 "nbformat": 4,
 "nbformat_minor": 5
}
