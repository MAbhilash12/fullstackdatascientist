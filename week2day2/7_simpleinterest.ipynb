{
 "cells": [
  {
   "cell_type": "code",
   "execution_count": null,
   "id": "16a9eace",
   "metadata": {},
   "outputs": [
    {
     "name": "stdout",
     "output_type": "stream",
     "text": [
      "Principal amount: 100000.0\n",
      "Rate of interest: 8.5\n",
      "Time in years: 10.0\n",
      "Simple Interest: 85000.0\n"
     ]
    }
   ],
   "source": [
    "#//7. Problem: Calculate Simple Interest.\n",
    "\n",
    "\n",
    "def simple_interest(principal, rate, time):\n",
    "    return (principal * rate * time) / 100\n",
    "\n",
    "p=float(input(\"Enter principal amount: \"))\n",
    "r=float(input(\"Enter rate of interest: \"))\n",
    "t=float(input(\"Enter time in years: \"))\n",
    "print(\"Principal amount:\",p)\n",
    "print(\"Rate of interest:\",r)\n",
    "print(\"Time in years:\",t)\n",
    "si = simple_interest(p, r, t)\n",
    "print(\"Simple Interest:\",si)\n"
   ]
  }
 ],
 "metadata": {
  "kernelspec": {
   "display_name": "Python 3",
   "language": "python",
   "name": "python3"
  },
  "language_info": {
   "codemirror_mode": {
    "name": "ipython",
    "version": 3
   },
   "file_extension": ".py",
   "mimetype": "text/x-python",
   "name": "python",
   "nbconvert_exporter": "python",
   "pygments_lexer": "ipython3",
   "version": "3.11.0"
  }
 },
 "nbformat": 4,
 "nbformat_minor": 5
}
