{
 "cells": [
  {
   "cell_type": "code",
   "execution_count": null,
   "id": "91d395b5",
   "metadata": {},
   "outputs": [
    {
     "name": "stdout",
     "output_type": "stream",
     "text": [
      "Is 17 a prime number?\n",
      " True\n",
      "17 is a prime number\n"
     ]
    }
   ],
   "source": [
    "#//10. Problem: Write a function to check if a number is prime.\n",
    "def isprime(number):\n",
    "    if number >1:\n",
    "        for i in range(2, int(number**0.5)+1):\n",
    "            if number % i == 0:\n",
    "                return False\n",
    "        return True\n",
    "    return False\n",
    "\n",
    "n=int(input(\"Enter a number: \"))\n",
    "print(\"Is\",n,\"a prime number?\\n\",isprime(n))\n",
    "if isprime(n):\n",
    "    print(n,\"is a prime number\")\n",
    "else:\n",
    "    print(n,\"is not a prime number\")"
   ]
  }
 ],
 "metadata": {
  "kernelspec": {
   "display_name": "Python 3",
   "language": "python",
   "name": "python3"
  },
  "language_info": {
   "codemirror_mode": {
    "name": "ipython",
    "version": 3
   },
   "file_extension": ".py",
   "mimetype": "text/x-python",
   "name": "python",
   "nbconvert_exporter": "python",
   "pygments_lexer": "ipython3",
   "version": "3.11.0"
  }
 },
 "nbformat": 4,
 "nbformat_minor": 5
}
