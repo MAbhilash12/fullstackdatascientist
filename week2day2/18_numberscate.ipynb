{
 "cells": [
  {
   "cell_type": "code",
   "execution_count": null,
   "id": "1d775aa1",
   "metadata": {},
   "outputs": [
    {
     "name": "stdout",
     "output_type": "stream",
     "text": [
      "No of Positive numbers:  2\n",
      "No of Negative numbers:  2\n",
      "No of Zeroes:  1\n"
     ]
    }
   ],
   "source": [
    "#18. Problem: Given a list, count positive, negative, and zero numbers.\n",
    "def numberscater(numbers):\n",
    "    pcount,ncount,zcount=0,0,0\n",
    "    for number in numbers:\n",
    "        if number>0:\n",
    "            pcount+=1\n",
    "        elif number<0:\n",
    "            ncount+=1\n",
    "        else:\n",
    "            zcount+=1\n",
    "    print(\"No of Positive numbers: \",pcount)\n",
    "    print(\"No of Negative numbers: \",ncount)\n",
    "    print(\"No of Zeroes: \",zcount)\n",
    "\n",
    "numbers=[]\n",
    "n=int(input(\"Enter number of elements: \"))\n",
    "for i in range(n):\n",
    "    numbers.append(int(input(\"Enter number: \")))\n",
    "numberscater(numbers)\n"
   ]
  }
 ],
 "metadata": {
  "kernelspec": {
   "display_name": "Python 3",
   "language": "python",
   "name": "python3"
  },
  "language_info": {
   "codemirror_mode": {
    "name": "ipython",
    "version": 3
   },
   "file_extension": ".py",
   "mimetype": "text/x-python",
   "name": "python",
   "nbconvert_exporter": "python",
   "pygments_lexer": "ipython3",
   "version": "3.11.0"
  }
 },
 "nbformat": 4,
 "nbformat_minor": 5
}
