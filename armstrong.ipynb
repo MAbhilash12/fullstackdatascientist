{
 "cells": [
  {
   "cell_type": "code",
   "execution_count": null,
   "id": "2dbd79f4",
   "metadata": {},
   "outputs": [
    {
     "name": "stdout",
     "output_type": "stream",
     "text": [
      "153 is an armstrong number\n"
     ]
    }
   ],
   "source": [
    "num=int(input())\n",
    "mun=num\n",
    "arm=0\n",
    "rem=0\n",
    "while(num>0):\n",
    "    rem=num%10\n",
    "    arm=arm+rem*rem*rem\n",
    "    num=num//10\n",
    "if mun==arm:\n",
    "    print(mun,\"is an armstrong number\")\n",
    "else:\n",
    "    print(mun,\"is not an armstrong number\")\n",
    "\n",
    "\n",
    "\n"
   ]
  }
 ],
 "metadata": {
  "kernelspec": {
   "display_name": "venv",
   "language": "python",
   "name": "python3"
  },
  "language_info": {
   "codemirror_mode": {
    "name": "ipython",
    "version": 3
   },
   "file_extension": ".py",
   "mimetype": "text/x-python",
   "name": "python",
   "nbconvert_exporter": "python",
   "pygments_lexer": "ipython3",
   "version": "3.11.0"
  }
 },
 "nbformat": 4,
 "nbformat_minor": 5
}
