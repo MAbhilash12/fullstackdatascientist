{
 "cells": [
  {
   "cell_type": "code",
   "execution_count": 2,
   "id": "d79f7350",
   "metadata": {},
   "outputs": [
    {
     "name": "stdout",
     "output_type": "stream",
     "text": [
      "Text files: 1\n",
      "Python files: 0\n"
     ]
    }
   ],
   "source": [
    "import os\n",
    "\n",
    "txt_count = 0\n",
    "py_count = 0\n",
    "\n",
    "for file in os.listdir(\".\"):\n",
    "    if os.path.isfile(file):\n",
    "        if file.endswith(\".txt\"):\n",
    "            txt_count += 1\n",
    "        elif file.endswith(\".py\"):\n",
    "            py_count += 1\n",
    "\n",
    "print(f\"Text files: {txt_count}\")\n",
    "print(f\"Python files: {py_count}\")\n"
   ]
  }
 ],
 "metadata": {
  "kernelspec": {
   "display_name": "Python 3",
   "language": "python",
   "name": "python3"
  },
  "language_info": {
   "codemirror_mode": {
    "name": "ipython",
    "version": 3
   },
   "file_extension": ".py",
   "mimetype": "text/x-python",
   "name": "python",
   "nbconvert_exporter": "python",
   "pygments_lexer": "ipython3",
   "version": "3.11.0"
  }
 },
 "nbformat": 4,
 "nbformat_minor": 5
}
