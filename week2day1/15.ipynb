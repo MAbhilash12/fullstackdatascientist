{
 "cells": [
  {
   "cell_type": "code",
   "execution_count": 5,
   "id": "0fde8a88",
   "metadata": {},
   "outputs": [
    {
     "name": "stdout",
     "output_type": "stream",
     "text": [
      "Items in order: ['apple', 'orange']\n",
      "Total price: 8\n"
     ]
    }
   ],
   "source": [
    "class Orders:\n",
    "    def __init__(self):\n",
    "        self.items = []\n",
    "        self.prices = []\n",
    "        self.total = 0\n",
    "\n",
    "    def add_item(self, item, price):\n",
    "        self.items.append(item)\n",
    "        self.prices.append(price)\n",
    "        self.total += price\n",
    "\n",
    "    def remove_item(self, item):\n",
    "        if item in self.items:\n",
    "            index = self.items.index(item)\n",
    "            self.total -= self.prices[index]\n",
    "            del self.items[index]\n",
    "            del self.prices[index]\n",
    "\n",
    "    def get_total(self):\n",
    "        return self.total\n",
    "\n",
    "    def get_items(self):\n",
    "        return self.items.copy()\n",
    "\n",
    "\n",
    "\n",
    "order1 = Orders()\n",
    "order1.add_item(\"apple\", 1)\n",
    "order1.add_item(\"banana\", 5)\n",
    "order1.add_item(\"orange\", 7)\n",
    "order1.remove_item(\"banana\")\n",
    "\n",
    "print(\"Items in order:\", order1.get_items())\n",
    "print(\"Total price:\", order1.get_total())\n"
   ]
  },
  {
   "cell_type": "code",
   "execution_count": null,
   "id": "cc5eff68",
   "metadata": {},
   "outputs": [],
   "source": []
  }
 ],
 "metadata": {
  "kernelspec": {
   "display_name": "Python 3",
   "language": "python",
   "name": "python3"
  },
  "language_info": {
   "codemirror_mode": {
    "name": "ipython",
    "version": 3
   },
   "file_extension": ".py",
   "mimetype": "text/x-python",
   "name": "python",
   "nbconvert_exporter": "python",
   "pygments_lexer": "ipython3",
   "version": "3.11.0"
  }
 },
 "nbformat": 4,
 "nbformat_minor": 5
}
