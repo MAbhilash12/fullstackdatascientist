{
 "cells": [
  {
   "cell_type": "code",
   "execution_count": null,
   "id": "273b4bf3",
   "metadata": {},
   "outputs": [
    {
     "name": "stdout",
     "output_type": "stream",
     "text": [
      "Student: abhi\n",
      "Marks: [87, 98, 78]\n",
      "Average: 87.66666666666667\n",
      "Highest Mark: 98\n"
     ]
    }
   ],
   "source": [
    "class Student:\n",
    "    def __init__(self, name, marks):\n",
    "        self.name = name\n",
    "        self.marks = marks  # Initialize with provided marks\n",
    "\n",
    "    def add_marks(self, mark):\n",
    "        self.marks.append(mark)\n",
    "\n",
    "    def average(self):\n",
    "        return sum(self.marks) / len(self.marks) if self.marks else 0\n",
    "\n",
    "    def max_mark(self):\n",
    "        return max(self.marks) if self.marks else None\n",
    "\n",
    "    def min_mark(self):\n",
    "        return min(self.marks) if self.marks else None\n",
    "\n",
    "    def get_marks(self):\n",
    "        return self.marks\n",
    "\n",
    "name = input(\"Enter student name: \")\n",
    "marks_input = input(\"Enter marks separated by spaces: \")\n",
    "marks = list(map(int, marks_input.split()))\n",
    "s = Student(name, marks)\n",
    "# No need to add marks again, already added in constructor\n",
    "print(\"Student:\", s.name)\n",
    "print(\"Marks:\", s.get_marks())\n",
    "print(\"Average:\", s.average())\n",
    "print(\"Highest Mark:\", s.max_mark())\n",
    "print(\"Lowest Mark:\", s.min_mark())"
   ]
  },
  {
   "cell_type": "code",
   "execution_count": null,
   "id": "ec74ac0d",
   "metadata": {},
   "outputs": [],
   "source": [
    "import math\n",
    "\n",
    "class Shape:\n",
    "    def __init__(self, name):\n",
    "        self.name = name\n",
    "\n",
    "    def area(self):\n",
    "        pass  # to be overridden by subclasses\n",
    "\n",
    "\n",
    "class Circle(Shape):\n",
    "    def __init__(self, radius):\n",
    "        super().__init__(\"Circle\")\n",
    "        self.radius = radius\n",
    "\n",
    "    def area(self):\n",
    "        return round(math.pi * self.radius ** 2, 2)\n",
    "\n",
    "\n",
    "class Rectangle(Shape):\n",
    "    def __init__(self, width, height):\n",
    "        super().__init__(\"Rectangle\")\n",
    "        self.width = width\n",
    "        self.height = height\n",
    "\n",
    "    def area(self):\n",
    "        return self.width * self.height\n",
    "\n",
    "\n",
    "# Example Usage\n",
    "c = Circle(7)\n",
    "print(c.area())   # 153.94\n",
    "\n",
    "r = Rectangle(4, 5)\n",
    "print(r.area())   # 20\n"
   ]
  }
 ],
 "metadata": {
  "kernelspec": {
   "display_name": "Python 3",
   "language": "python",
   "name": "python3"
  },
  "language_info": {
   "codemirror_mode": {
    "name": "ipython",
    "version": 3
   },
   "file_extension": ".py",
   "mimetype": "text/x-python",
   "name": "python",
   "nbconvert_exporter": "python",
   "pygments_lexer": "ipython3",
   "version": "3.11.0"
  }
 },
 "nbformat": 4,
 "nbformat_minor": 5
}
