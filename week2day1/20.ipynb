{
 "cells": [
  {
   "cell_type": "code",
   "execution_count": 1,
   "id": "3fb0f5d3",
   "metadata": {},
   "outputs": [
    {
     "name": "stdout",
     "output_type": "stream",
     "text": [
      "The second largest number is: 30\n"
     ]
    }
   ],
   "source": [
    "def second_largest(numbers):\n",
    "    max_num=max(numbers)\n",
    "    numbers.remove(max_num)\n",
    "    second_max=max(numbers)\n",
    "    return second_max\n",
    "\n",
    "numbers=[]\n",
    "n=int(input(\"Enter the number of elements: \"))\n",
    "for i in range(n):\n",
    "    num=int(input(\"Enter number: \"))\n",
    "    numbers.append(num)\n",
    "print(\"The second largest number is:\",second_largest(numbers))\n",
    "\n"
   ]
  }
 ],
 "metadata": {
  "kernelspec": {
   "display_name": "Python 3",
   "language": "python",
   "name": "python3"
  },
  "language_info": {
   "codemirror_mode": {
    "name": "ipython",
    "version": 3
   },
   "file_extension": ".py",
   "mimetype": "text/x-python",
   "name": "python",
   "nbconvert_exporter": "python",
   "pygments_lexer": "ipython3",
   "version": "3.11.0"
  }
 },
 "nbformat": 4,
 "nbformat_minor": 5
}
