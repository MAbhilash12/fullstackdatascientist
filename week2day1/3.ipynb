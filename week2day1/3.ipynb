{
 "cells": [
  {
   "cell_type": "code",
   "execution_count": 2,
   "id": "f50ea7bc",
   "metadata": {},
   "outputs": [
    {
     "name": "stdout",
     "output_type": "stream",
     "text": [
      "True\n"
     ]
    }
   ],
   "source": [
    "def anagram(s1,s2):\n",
    "    s1=s1.lower()\n",
    "    s2=s2.lower()\n",
    "    s1=s1.replace(\" \",\"\")\n",
    "    s2=s2.replace(\" \",\"\")\n",
    "    if sorted(s1)==sorted(s2):\n",
    "        return True\n",
    "    else:\n",
    "        return False\n",
    "s1=input(\"Enter first string: \")\n",
    "s2=input(\"Enter second string: \")\n",
    "print(anagram(s1,s2))"
   ]
  }
 ],
 "metadata": {
  "kernelspec": {
   "display_name": "Python 3",
   "language": "python",
   "name": "python3"
  },
  "language_info": {
   "codemirror_mode": {
    "name": "ipython",
    "version": 3
   },
   "file_extension": ".py",
   "mimetype": "text/x-python",
   "name": "python",
   "nbconvert_exporter": "python",
   "pygments_lexer": "ipython3",
   "version": "3.11.0"
  }
 },
 "nbformat": 4,
 "nbformat_minor": 5
}
