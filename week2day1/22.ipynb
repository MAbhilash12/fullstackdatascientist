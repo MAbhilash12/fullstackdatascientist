{
 "cells": [
  {
   "cell_type": "code",
   "execution_count": null,
   "id": "2663698f",
   "metadata": {},
   "outputs": [],
   "source": [
    "import statistics\n",
    "\n",
    "# Get scores from user\n",
    "scores_input = input(\"Enter exam scores separated by spaces: \")\n",
    "scores = list(map(float, scores_input.split()))\n",
    "\n",
    "mean_score = statistics.mean(scores)\n",
    "median_score = statistics.median(scores)\n",
    "variance_score = statistics.variance(scores)\n",
    "\n",
    "print(f\"\\nMean = {mean_score:.2f}\")\n",
    "print(f\"Median = {median_score}\")\n",
    "print(f\"Variance = {variance_score:.2f}\")\n",
    "print(f\"Standard Deviation = {statistics.stdev(scores):.2f}\")\n",
    "print(f\"Highest Score = {max(scores)}\")\n",
    "print(f\"Lowest Score = {min(scores)}\")\n",
    "\n"
   ]
  }
 ],
 "metadata": {
  "language_info": {
   "name": "python"
  }
 },
 "nbformat": 4,
 "nbformat_minor": 5
}
