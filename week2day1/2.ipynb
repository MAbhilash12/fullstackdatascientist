{
 "cells": [
  {
   "cell_type": "code",
   "execution_count": 2,
   "id": "609f7b99",
   "metadata": {},
   "outputs": [
    {
     "name": "stdout",
     "output_type": "stream",
     "text": [
      "the string is a palindrome\n"
     ]
    }
   ],
   "source": [
    "def palindrome(s):\n",
    "    s=s.lower()\n",
    "    s=s.replace(\" \",\"\")\n",
    "    if s==s[::-1]:\n",
    "        return \"the string is a palindrome\"\n",
    "    else:\n",
    "        return \"the string is not a palindrome\"\n",
    "    \n",
    "st=input(\"Enter a string: \")\n",
    "print(palindrome(st))"
   ]
  }
 ],
 "metadata": {
  "kernelspec": {
   "display_name": "Python 3",
   "language": "python",
   "name": "python3"
  },
  "language_info": {
   "codemirror_mode": {
    "name": "ipython",
    "version": 3
   },
   "file_extension": ".py",
   "mimetype": "text/x-python",
   "name": "python",
   "nbconvert_exporter": "python",
   "pygments_lexer": "ipython3",
   "version": "3.11.0"
  }
 },
 "nbformat": 4,
 "nbformat_minor": 5
}
