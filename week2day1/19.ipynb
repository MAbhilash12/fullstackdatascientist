{
 "cells": [
  {
   "cell_type": "code",
   "execution_count": null,
   "id": "8bdde0e8",
   "metadata": {},
   "outputs": [
    {
     "data": {
      "text/plain": [
       "'A+'"
      ]
     },
     "execution_count": 1,
     "metadata": {},
     "output_type": "execute_result"
    }
   ],
   "source": [
    "def grade_calculator(marks):\n",
    "    average = sum(marks) / len(marks)\n",
    "    if average >= 90:\n",
    "        return 'A+'\n",
    "    elif average >= 80:\n",
    "        return 'A'\n",
    "    elif average >= 70:\n",
    "        return 'B'\n",
    "    elif average >= 60:\n",
    "        return 'C'\n",
    "    elif average >= 50:\n",
    "        return 'D'\n",
    "    else:\n",
    "        return 'F'\n",
    "\n",
    "marks=[]\n",
    "for i in range(5):\n",
    "    mark = int(input(\"Enter mark {}: \", i+1))\n",
    "    marks.append(mark)\n",
    "grade_calculator(marks)\n"
   ]
  }
 ],
 "metadata": {
  "kernelspec": {
   "display_name": "Python 3",
   "language": "python",
   "name": "python3"
  },
  "language_info": {
   "codemirror_mode": {
    "name": "ipython",
    "version": 3
   },
   "file_extension": ".py",
   "mimetype": "text/x-python",
   "name": "python",
   "nbconvert_exporter": "python",
   "pygments_lexer": "ipython3",
   "version": "3.11.0"
  }
 },
 "nbformat": 4,
 "nbformat_minor": 5
}
