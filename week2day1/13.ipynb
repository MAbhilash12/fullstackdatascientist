{
 "cells": [
  {
   "cell_type": "code",
   "execution_count": 1,
   "id": "8278fae6",
   "metadata": {},
   "outputs": [
    {
     "name": "stdout",
     "output_type": "stream",
     "text": [
      "10000.0\n",
      "4000.0\n",
      "1500.0\n"
     ]
    }
   ],
   "source": [
    "class Employee:\n",
    "    def __init__(self, name, salary):\n",
    "        self.name = name\n",
    "        self.salary = salary\n",
    "\n",
    "    def bonus(self):\n",
    "        return 0\n",
    "\n",
    "\n",
    "class Manager(Employee):\n",
    "    def bonus(self):\n",
    "        return self.salary * 0.20\n",
    "\n",
    "\n",
    "class Developer(Employee):\n",
    "    def bonus(self):\n",
    "        return self.salary * 0.10\n",
    "\n",
    "\n",
    "class Intern(Employee):\n",
    "    def bonus(self):\n",
    "        return self.salary * 0.05\n",
    "\n",
    "\n",
    "\n",
    "m = Manager(\"Alice\", 50000)\n",
    "print(m.bonus())\n",
    "d = Developer(\"Bob\", 40000)\n",
    "print(d.bonus())\n",
    "i = Intern(\"Charlie\", 30000)\n",
    "print(i.bonus())\n",
    "\n"
   ]
  }
 ],
 "metadata": {
  "kernelspec": {
   "display_name": "Python 3",
   "language": "python",
   "name": "python3"
  },
  "language_info": {
   "codemirror_mode": {
    "name": "ipython",
    "version": 3
   },
   "file_extension": ".py",
   "mimetype": "text/x-python",
   "name": "python",
   "nbconvert_exporter": "python",
   "pygments_lexer": "ipython3",
   "version": "3.11.0"
  }
 },
 "nbformat": 4,
 "nbformat_minor": 5
}
