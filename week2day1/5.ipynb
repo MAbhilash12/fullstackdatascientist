{
 "cells": [
  {
   "cell_type": "code",
   "execution_count": 4,
   "id": "099d5b85",
   "metadata": {},
   "outputs": [
    {
     "name": "stdout",
     "output_type": "stream",
     "text": [
      "No words found\n"
     ]
    }
   ],
   "source": [
    "def longword(s):\n",
    "    words=s.split()\n",
    "    if not words:\n",
    "        return \"No words found\"\n",
    "    longest_word=words[0]\n",
    "    length_of_longest=len(longest_word[0])\n",
    "    for word in words:\n",
    "        if len(word)>length_of_longest:\n",
    "            longest_word=word\n",
    "            length_of_longest=len(longest_word)\n",
    "    return longest_word\n",
    "st=input(\"Enter a string: \")\n",
    "print(longword(st))\n"
   ]
  }
 ],
 "metadata": {
  "kernelspec": {
   "display_name": "Python 3",
   "language": "python",
   "name": "python3"
  },
  "language_info": {
   "codemirror_mode": {
    "name": "ipython",
    "version": 3
   },
   "file_extension": ".py",
   "mimetype": "text/x-python",
   "name": "python",
   "nbconvert_exporter": "python",
   "pygments_lexer": "ipython3",
   "version": "3.11.0"
  }
 },
 "nbformat": 4,
 "nbformat_minor": 5
}
