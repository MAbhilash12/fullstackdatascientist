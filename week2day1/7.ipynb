{
 "cells": [
  {
   "cell_type": "code",
   "execution_count": 1,
   "id": "23c656a3",
   "metadata": {},
   "outputs": [
    {
     "name": "stdout",
     "output_type": "stream",
     "text": [
      "Square root of 16: 4.0\n",
      "Cosine of 0: 1.0\n",
      "Sine of π/2: 1.0\n",
      "Factorial of 5: 120\n"
     ]
    }
   ],
   "source": [
    "import math\n",
    "def sqrt(n):\n",
    "    if n < 0:\n",
    "        return \"Square root of negative number is not defined\"\n",
    "    elif n == 0 or n == 1:\n",
    "        return n\n",
    "    else:\n",
    "        return math.sqrt(n)\n",
    "def cosine(x):\n",
    "    return math.cos(x)\n",
    "def sine(x):\n",
    "    return math.sin(x)\n",
    "def factorial(n):\n",
    "    if n < 0:\n",
    "        return \"Factorial of negative number is not defined\"\n",
    "    elif n == 0 or n == 1:\n",
    "        return 1\n",
    "    else:\n",
    "        return math.factorial(n)\n",
    "print(\"Square root of 16:\", sqrt(16))\n",
    "print(\"Cosine of 0:\", cosine(0))\n",
    "print(\"Sine of π/2:\", sine(math.pi / 2))\n",
    "print(\"Factorial of 5:\", factorial(5))"
   ]
  }
 ],
 "metadata": {
  "kernelspec": {
   "display_name": "Python 3",
   "language": "python",
   "name": "python3"
  },
  "language_info": {
   "codemirror_mode": {
    "name": "ipython",
    "version": 3
   },
   "file_extension": ".py",
   "mimetype": "text/x-python",
   "name": "python",
   "nbconvert_exporter": "python",
   "pygments_lexer": "ipython3",
   "version": "3.11.0"
  }
 },
 "nbformat": 4,
 "nbformat_minor": 5
}
