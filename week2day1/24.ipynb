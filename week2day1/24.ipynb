{
 "cells": [
  {
   "cell_type": "code",
   "execution_count": 1,
   "id": "c5fef99e",
   "metadata": {},
   "outputs": [
    {
     "name": "stdout",
     "output_type": "stream",
     "text": [
      "You chose Rock, Computer chose Scissors\n",
      "You Win!\n"
     ]
    }
   ],
   "source": [
    "import random\n",
    "\n",
    "options = [\"Rock\", \"Paper\", \"Scissors\"]\n",
    "\n",
    "user_choice = input(\"Choose Rock, Paper, or Scissors: \").capitalize()\n",
    "computer_choice = random.choice(options)\n",
    "\n",
    "print(f\"You chose {user_choice}, Computer chose {computer_choice}\")\n",
    "\n",
    "if user_choice == computer_choice:\n",
    "    print(\"It's a Tie!\")\n",
    "elif (user_choice == \"Rock\" and computer_choice == \"Scissors\") or \\\n",
    "     (user_choice == \"Paper\" and computer_choice == \"Rock\") or \\\n",
    "     (user_choice == \"Scissors\" and computer_choice == \"Paper\"):\n",
    "    print(\"You Win!\")\n",
    "else:\n",
    "    print(\"Computer Wins!\")\n"
   ]
  }
 ],
 "metadata": {
  "kernelspec": {
   "display_name": "Python 3",
   "language": "python",
   "name": "python3"
  },
  "language_info": {
   "codemirror_mode": {
    "name": "ipython",
    "version": 3
   },
   "file_extension": ".py",
   "mimetype": "text/x-python",
   "name": "python",
   "nbconvert_exporter": "python",
   "pygments_lexer": "ipython3",
   "version": "3.11.0"
  }
 },
 "nbformat": 4,
 "nbformat_minor": 5
}
