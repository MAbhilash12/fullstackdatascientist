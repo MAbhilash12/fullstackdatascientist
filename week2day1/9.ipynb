{
 "cells": [
  {
   "cell_type": "code",
   "execution_count": 1,
   "id": "9bb33a99",
   "metadata": {},
   "outputs": [
    {
     "name": "stdout",
     "output_type": "stream",
     "text": [
      "Day 1: Weather: Cloudy, Temp: 30°C\n",
      "Day 2: Weather: Windy, Temp: 20°C\n",
      "Day 3: Weather: Sunny, Temp: 25°C\n"
     ]
    }
   ],
   "source": [
    "import random\n",
    "\n",
    "weathers = [\"Sunny\", \"Rainy\", \"Cloudy\", \"Windy\", \"Stormy\"]\n",
    "\n",
    "days = int(input(\"Enter number of days to simulate: \"))\n",
    "\n",
    "for day in range(1, days + 1):\n",
    "    temperature = random.randint(20, 40)\n",
    "    weather_today = random.choice(weathers)\n",
    "    print(f\"Day {day}: Weather: {weather_today}, Temp: {temperature}°C\")\n"
   ]
  }
 ],
 "metadata": {
  "kernelspec": {
   "display_name": "Python 3",
   "language": "python",
   "name": "python3"
  },
  "language_info": {
   "codemirror_mode": {
    "name": "ipython",
    "version": 3
   },
   "file_extension": ".py",
   "mimetype": "text/x-python",
   "name": "python",
   "nbconvert_exporter": "python",
   "pygments_lexer": "ipython3",
   "version": "3.11.0"
  }
 },
 "nbformat": 4,
 "nbformat_minor": 5
}
