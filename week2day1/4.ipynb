{
 "cells": [
  {
   "cell_type": "code",
   "execution_count": 2,
   "id": "0af24a7d",
   "metadata": {},
   "outputs": [
    {
     "name": "stdout",
     "output_type": "stream",
     "text": [
      "('Number of vowels:', 5, 'Number of constants:', 21)\n"
     ]
    }
   ],
   "source": [
    "def vowelsconstants(s):\n",
    "    vowels=\"aeiou\"\n",
    "    constants=\"bcdfghjklmnpqrstvwxyz\"\n",
    "    s=s.lower()\n",
    "    v=0\n",
    "    c=0\n",
    "    for char in s:\n",
    "        if char in vowels:\n",
    "            v+=1\n",
    "        elif char in constants:\n",
    "            c+=1\n",
    "    return \"Number of vowels:\",v,\"Number of constants:\",c\n",
    "s=input(\"Enter a string: \")\n",
    "print(vowelsconstants(s))\n"
   ]
  }
 ],
 "metadata": {
  "kernelspec": {
   "display_name": "Python 3",
   "language": "python",
   "name": "python3"
  },
  "language_info": {
   "codemirror_mode": {
    "name": "ipython",
    "version": 3
   },
   "file_extension": ".py",
   "mimetype": "text/x-python",
   "name": "python",
   "nbconvert_exporter": "python",
   "pygments_lexer": "ipython3",
   "version": "3.11.0"
  }
 },
 "nbformat": 4,
 "nbformat_minor": 5
}
