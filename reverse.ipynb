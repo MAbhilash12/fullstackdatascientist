{
 "cells": [
  {
   "cell_type": "code",
   "execution_count": 3,
   "id": "662071cf",
   "metadata": {},
   "outputs": [
    {
     "name": "stdout",
     "output_type": "stream",
     "text": [
      "asdfghjkl\n",
      "lkjhgfdsa\n"
     ]
    }
   ],
   "source": [
    "str=input(\"enter the string\")\n",
    "rstr=''\n",
    "print(str)\n",
    "for i in str:\n",
    "    rstr=i+rstr\n",
    "print(rstr)"
   ]
  }
 ],
 "metadata": {
  "kernelspec": {
   "display_name": "venv",
   "language": "python",
   "name": "python3"
  },
  "language_info": {
   "codemirror_mode": {
    "name": "ipython",
    "version": 3
   },
   "file_extension": ".py",
   "mimetype": "text/x-python",
   "name": "python",
   "nbconvert_exporter": "python",
   "pygments_lexer": "ipython3",
   "version": "3.11.0"
  }
 },
 "nbformat": 4,
 "nbformat_minor": 5
}
